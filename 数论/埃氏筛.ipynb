{
 "cells": [
  {
   "cell_type": "code",
   "execution_count": 1,
   "id": "d3bc437b",
   "metadata": {},
   "outputs": [],
   "source": [
    "'''\n",
    "埃氏筛的主要思想是从2开始每个素数的倍数都不是素数\n",
    "'''\n",
    "\n",
    "\n",
    "mx = 100 # 筛选范围，包含 mx\n",
    "ans = [] # 素数存储数组\n",
    "is_prime = [0] * (mx + 1) # 素数前缀和\n",
    "\n",
    "for i in range(2, mx + 1):\n",
    "    if is_prime[i] == 0:\n",
    "        ans.append(i)\n",
    "        is_prime[i] = is_prime[i - 1] + 1\n",
    "        for j in range(i * i, mx + 1, i):\n",
    "            is_prime[j] = -1\n",
    "    else:\n",
    "        is_prime[i] = is_prime[i - 1]"
   ]
  },
  {
   "cell_type": "code",
   "execution_count": 2,
   "id": "17841522",
   "metadata": {},
   "outputs": [
    {
     "data": {
      "text/plain": [
       "[2,\n",
       " 3,\n",
       " 5,\n",
       " 7,\n",
       " 11,\n",
       " 13,\n",
       " 17,\n",
       " 19,\n",
       " 23,\n",
       " 29,\n",
       " 31,\n",
       " 37,\n",
       " 41,\n",
       " 43,\n",
       " 47,\n",
       " 53,\n",
       " 59,\n",
       " 61,\n",
       " 67,\n",
       " 71,\n",
       " 73,\n",
       " 79,\n",
       " 83,\n",
       " 89,\n",
       " 97]"
      ]
     },
     "execution_count": 2,
     "metadata": {},
     "output_type": "execute_result"
    }
   ],
   "source": [
    "ans"
   ]
  },
  {
   "cell_type": "code",
   "execution_count": 3,
   "id": "70af3102",
   "metadata": {},
   "outputs": [
    {
     "data": {
      "text/plain": [
       "25"
      ]
     },
     "execution_count": 3,
     "metadata": {},
     "output_type": "execute_result"
    }
   ],
   "source": [
    "is_prime[-1]"
   ]
  },
  {
   "cell_type": "code",
   "execution_count": null,
   "id": "e5aac7c4",
   "metadata": {},
   "outputs": [],
   "source": []
  }
 ],
 "metadata": {
  "kernelspec": {
   "display_name": "Python 3 (ipykernel)",
   "language": "python",
   "name": "python3"
  },
  "language_info": {
   "codemirror_mode": {
    "name": "ipython",
    "version": 3
   },
   "file_extension": ".py",
   "mimetype": "text/x-python",
   "name": "python",
   "nbconvert_exporter": "python",
   "pygments_lexer": "ipython3",
   "version": "3.11.8"
  }
 },
 "nbformat": 4,
 "nbformat_minor": 5
}
