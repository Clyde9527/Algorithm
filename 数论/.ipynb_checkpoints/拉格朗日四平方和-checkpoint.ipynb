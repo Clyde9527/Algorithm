{
 "cells": [
  {
   "cell_type": "code",
   "execution_count": null,
   "id": "c328e054",
   "metadata": {},
   "outputs": [],
   "source": [
    "'''\n",
    "拉格朗日四平方和定理：任意一个正整数都可以表示为最多四个整数的平方和。\n",
    "即 n = a^2 + b^2 + c^2 + d^2 其中  a, b, c, d  是整数（可以是零）。\n",
    "\n",
    "根据数论，如果  n  满足  n = 4^a * (8b + 7) ，则需要 4 个平方数。\n",
    "'''"
   ]
  },
  {
   "cell_type": "code",
   "execution_count": 1,
   "id": "c956ca6d",
   "metadata": {},
   "outputs": [],
   "source": [
    "import math\n",
    "\n",
    "def is_square(n):\n",
    "    \"\"\"判断 n 是否是平方数\"\"\"\n",
    "    sqrt_n = int(math.sqrt(n))\n",
    "    return sqrt_n * sqrt_n == n\n",
    "\n",
    "def numSquares(n):\n",
    "    # 一，先判断由 1 个平方数组成的情况\n",
    "    if is_square(n):\n",
    "        return 1\n",
    "\n",
    "    # 二，判断是否可以由 4 个平方数组成\n",
    "    while n % 4 == 0:\n",
    "        n //= 4\n",
    "    if n % 8 == 7:\n",
    "        return 4\n",
    "\n",
    "    # 三，判断是否可以由 2 个平方数组成\n",
    "    sqrt_n = int(math.sqrt(n))\n",
    "    for i in range(1, sqrt_n + 1):\n",
    "        if is_square(n - i * i):\n",
    "            return 2\n",
    "\n",
    "    # 四，其余情况只能由 3 个平方数组成\n",
    "    return 3"
   ]
  },
  {
   "cell_type": "code",
   "execution_count": 2,
   "id": "47406b1f",
   "metadata": {},
   "outputs": [
    {
     "data": {
      "text/plain": [
       "2"
      ]
     },
     "execution_count": 2,
     "metadata": {},
     "output_type": "execute_result"
    }
   ],
   "source": [
    "numSquares(17)"
   ]
  },
  {
   "cell_type": "code",
   "execution_count": 3,
   "id": "9be2996d",
   "metadata": {},
   "outputs": [
    {
     "data": {
      "text/plain": [
       "4"
      ]
     },
     "execution_count": 3,
     "metadata": {},
     "output_type": "execute_result"
    }
   ],
   "source": [
    "numSquares(7)"
   ]
  },
  {
   "cell_type": "code",
   "execution_count": null,
   "id": "8fc35800",
   "metadata": {},
   "outputs": [],
   "source": []
  }
 ],
 "metadata": {
  "kernelspec": {
   "display_name": "Python 3 (ipykernel)",
   "language": "python",
   "name": "python3"
  },
  "language_info": {
   "codemirror_mode": {
    "name": "ipython",
    "version": 3
   },
   "file_extension": ".py",
   "mimetype": "text/x-python",
   "name": "python",
   "nbconvert_exporter": "python",
   "pygments_lexer": "ipython3",
   "version": "3.11.8"
  }
 },
 "nbformat": 4,
 "nbformat_minor": 5
}
