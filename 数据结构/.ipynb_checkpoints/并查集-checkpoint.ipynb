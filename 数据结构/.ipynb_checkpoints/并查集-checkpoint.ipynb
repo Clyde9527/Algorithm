{
 "cells": [
  {
   "cell_type": "code",
   "execution_count": null,
   "id": "eeea455d",
   "metadata": {},
   "outputs": [],
   "source": [
    "'''\n",
    "并查集\n",
    "核心思想： 每个集合选一个“代表元”，把集合的其他元素，“指向”这个代表元\n",
    "参考视频：【【差分数组 并查集【力扣双周赛 85】LeetCode】 https://www.bilibili.com/video/BV1Kd4y1Z7Fv/?share_source=copy_web&vd_source=f54dfb5d9dd74c2479a0334675fc5662\n",
    "参考资料： https://oi-wiki.org/ds/dsu/\n",
    "'''"
   ]
  },
  {
   "cell_type": "code",
   "execution_count": null,
   "id": "df82163d",
   "metadata": {},
   "outputs": [],
   "source": [
    "'''\n",
    "例题：leetcode-1584\n",
    "https://leetcode.cn/problems/min-cost-to-connect-all-points/description/\n",
    "'''"
   ]
  },
  {
   "cell_type": "code",
   "execution_count": 1,
   "id": "84c748a6",
   "metadata": {},
   "outputs": [],
   "source": [
    "class UnionFind:\n",
    "    def __init__(self, n):\n",
    "        \"\"\"初始化并查集\"\"\"\n",
    "        self.pa = list(range(n))  # 每个节点的初始父节点是自己\n",
    "        self.rank = [1] * n           # 每个节点的初始秩（树的深度）为 1\n",
    "\n",
    "    def find(self, x):\n",
    "        \"\"\"查找根节点，同时进行路径压缩\"\"\"\n",
    "        if self.pa[x] != x:\n",
    "            self.pa[x] = self.find(self.pa[x])  # 路径压缩\n",
    "        return self.pa[x]\n",
    "\n",
    "    def union(self, x, y):\n",
    "        \"\"\"合并两个集合，按秩合并\"\"\"\n",
    "        rootX = self.find(x)\n",
    "        rootY = self.find(y)\n",
    "        if rootX != rootY:\n",
    "            # 按秩合并，rank 较小的树挂到 rank 较大的树上\n",
    "            if self.rank[rootX] > self.rank[rootY]:\n",
    "                self.pa[rootY] = rootX\n",
    "            elif self.rank[rootX] < self.rank[rootY]:\n",
    "                self.pa[rootX] = rootY\n",
    "            else:\n",
    "                self.pa[rootY] = rootX\n",
    "                self.rank[rootX] += 1\n",
    "\n",
    "    def connected(self, x, y):\n",
    "        \"\"\"判断两个节点是否连通\"\"\"\n",
    "        return self.find(x) == self.find(y)"
   ]
  },
  {
   "cell_type": "code",
   "execution_count": 2,
   "id": "fbd1c09b",
   "metadata": {},
   "outputs": [],
   "source": [
    "n = 5  # 节点个数\n",
    "connections = [(0, 1), (1, 2), (3, 4)]  # 节点间的直接连接"
   ]
  },
  {
   "cell_type": "code",
   "execution_count": 3,
   "id": "a3c2d74c",
   "metadata": {},
   "outputs": [
    {
     "data": {
      "text/plain": [
       "[0, 1, 2, 3, 4]"
      ]
     },
     "execution_count": 3,
     "metadata": {},
     "output_type": "execute_result"
    }
   ],
   "source": [
    "uf = UnionFind(n)\n",
    "uf.pa"
   ]
  },
  {
   "cell_type": "code",
   "execution_count": 4,
   "id": "349bc2a1",
   "metadata": {},
   "outputs": [
    {
     "data": {
      "text/plain": [
       "[0, 0, 0, 3, 3]"
      ]
     },
     "execution_count": 4,
     "metadata": {},
     "output_type": "execute_result"
    }
   ],
   "source": [
    "for x, y in connections:\n",
    "    uf.union(x, y)\n",
    "uf.pa"
   ]
  },
  {
   "cell_type": "code",
   "execution_count": null,
   "id": "2cdf5714",
   "metadata": {},
   "outputs": [],
   "source": []
  }
 ],
 "metadata": {
  "kernelspec": {
   "display_name": "Python 3 (ipykernel)",
   "language": "python",
   "name": "python3"
  },
  "language_info": {
   "codemirror_mode": {
    "name": "ipython",
    "version": 3
   },
   "file_extension": ".py",
   "mimetype": "text/x-python",
   "name": "python",
   "nbconvert_exporter": "python",
   "pygments_lexer": "ipython3",
   "version": "3.11.8"
  }
 },
 "nbformat": 4,
 "nbformat_minor": 5
}
