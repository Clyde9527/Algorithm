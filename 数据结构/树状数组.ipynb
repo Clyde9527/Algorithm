{
 "cells": [
  {
   "cell_type": "code",
   "execution_count": null,
   "id": "3be28384",
   "metadata": {},
   "outputs": [],
   "source": [
    "'''\n",
    "树状数组\n",
    "核心思想： https://www.bilibili.com/video/BV1ce411u7qP\n",
    "参考资料： https://oi-wiki.org/ds/fenwick/\n",
    "'''"
   ]
  },
  {
   "cell_type": "code",
   "execution_count": null,
   "id": "dc351897",
   "metadata": {},
   "outputs": [],
   "source": [
    "'''\n",
    "例题： leetcode-307\n",
    "https://leetcode.cn/problems/range-sum-query-mutable/description/\n",
    "'''"
   ]
  },
  {
   "cell_type": "code",
   "execution_count": 5,
   "id": "71e5b74e",
   "metadata": {},
   "outputs": [],
   "source": [
    "'''\n",
    "树状数组的工作原理可见下图：\n",
    "假设要计算a[1...7]的和，即为求c[4] + c[6] + c[7]。为此需要理解lowbit：\n",
    "lowbit 指的是一个整数的二进制表示中最低位的 1 所对应的值。\n",
    "例如，lowbit(6) 是 2，因为 6 的二进制表示是 110，最低位的 1 对应的值是 10（即 2）。\n",
    "'''\n",
    "def lowbit(x):\n",
    "    return x & -x"
   ]
  },
  {
   "cell_type": "markdown",
   "id": "827c5097",
   "metadata": {},
   "source": [
    "![描述](./imgs/fenwick-query.svg)"
   ]
  },
  {
   "cell_type": "code",
   "execution_count": 8,
   "id": "c4ccfd23",
   "metadata": {},
   "outputs": [],
   "source": [
    "class NumArray:\n",
    "    def __init__(self, nums):\n",
    "        self.n = len(nums)\n",
    "        self.nums = nums\n",
    "        self.tree = [0] * (self.n + 1)\n",
    "        # 初始化树状数组\n",
    "        for i in range(self.n):\n",
    "            self.update_tree(i, nums[i])\n",
    "\n",
    "    def lowbit(self, x):\n",
    "        return x & (-x)\n",
    "\n",
    "    def update_tree(self, idx, delta):\n",
    "        idx += 1  # 树状数组的索引从 1 开始\n",
    "        while idx <= self.n:\n",
    "            self.tree[idx] += delta\n",
    "            idx += self.lowbit(idx)\n",
    "\n",
    "    def query(self, idx):\n",
    "        idx += 1  # 树状数组的索引从 1 开始\n",
    "        res = 0\n",
    "        while idx > 0:\n",
    "            res += self.tree[idx]\n",
    "            idx -= self.lowbit(idx)\n",
    "        return res\n",
    "\n",
    "    def update(self, index, val):\n",
    "        # 计算差值\n",
    "        delta = val - self.nums[index]\n",
    "        # 更新原数组\n",
    "        self.nums[index] = val\n",
    "        # 更新树状数组\n",
    "        self.update_tree(index, delta)\n",
    "\n",
    "    def sumRange(self, left, right):\n",
    "        # 区间和等于 query(right) - query(left - 1)\n",
    "        return self.query(right) - self.query(left - 1)"
   ]
  },
  {
   "cell_type": "code",
   "execution_count": 9,
   "id": "8446fcc6",
   "metadata": {},
   "outputs": [
    {
     "name": "stdout",
     "output_type": "stream",
     "text": [
      "[0, 1, 4, 5, 10, 3, 8]\n",
      "9\n",
      "8\n"
     ]
    }
   ],
   "source": [
    "# 示例用法\n",
    "nums = [1, 3, 5, 1, 3, 5]\n",
    "numArray = NumArray(nums)\n",
    "print(numArray.tree)\n",
    "print(numArray.sumRange(0, 2))  # 输出 9 (1 + 3 + 5)\n",
    "numArray.update(1, 2)\n",
    "print(numArray.sumRange(0, 2))  # 输出 8 (1 + 2 + 5)"
   ]
  },
  {
   "cell_type": "code",
   "execution_count": null,
   "id": "cf066d4a",
   "metadata": {},
   "outputs": [],
   "source": []
  }
 ],
 "metadata": {
  "kernelspec": {
   "display_name": "Python 3 (ipykernel)",
   "language": "python",
   "name": "python3"
  },
  "language_info": {
   "codemirror_mode": {
    "name": "ipython",
    "version": 3
   },
   "file_extension": ".py",
   "mimetype": "text/x-python",
   "name": "python",
   "nbconvert_exporter": "python",
   "pygments_lexer": "ipython3",
   "version": "3.11.8"
  }
 },
 "nbformat": 4,
 "nbformat_minor": 5
}
