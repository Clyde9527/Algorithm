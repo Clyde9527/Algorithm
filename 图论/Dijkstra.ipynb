{
 "cells": [
  {
   "cell_type": "code",
   "execution_count": null,
   "id": "0f450f36",
   "metadata": {},
   "outputs": [],
   "source": [
    "'''\n",
    "适用范围： 解决有向图中没有负边权的单源最段路问题\n",
    "核心思想： 贪心\n",
    "参考视频：【Dijkstra 单源最短路【力扣周赛 334】】https://www.bilibili.com/video/BV1wj411G7sH/?share_source=copy_web&vd_source=f54dfb5d9dd74c2479a0334675fc5662&t=1200\n",
    "         https://www.bilibili.com/video/BV1zz4y1m7Nq\n",
    "'''"
   ]
  },
  {
   "cell_type": "code",
   "execution_count": null,
   "id": "d69f9f7a",
   "metadata": {},
   "outputs": [],
   "source": [
    "'''\n",
    "示例题目 leetcode-743\n",
    "https://leetcode.cn/problems/network-delay-time/description/\n",
    "'''"
   ]
  },
  {
   "cell_type": "code",
   "execution_count": 1,
   "id": "28d55173",
   "metadata": {},
   "outputs": [],
   "source": [
    "times = [[2,1,1],[2,3,1],[3,4,1]]\n",
    "n = 4\n",
    "k = 2"
   ]
  },
  {
   "cell_type": "code",
   "execution_count": 2,
   "id": "02f9e476",
   "metadata": {},
   "outputs": [],
   "source": [
    "from typing import List\n",
    "\n",
    "def networkDelayTime(times: List[List[int]], n: int, k: int) -> int:\n",
    "    g = [[float(\"+inf\") for _ in range(n)] for _ in range(n)] # 构建邻接矩阵\n",
    "    for x, y, d in times:\n",
    "        g[x-1][y-1] = d\n",
    "\n",
    "    dis = [float(\"+inf\")] * n # 从起点出发到每个点的最短路\n",
    "    vis = [False] * n # 是否已确定最短路\n",
    "    ans = dis[k - 1] = 0 # 从起点走到任一节点所需的最短路\n",
    "\n",
    "    while True:\n",
    "        x = -1\n",
    "        for i, ok in enumerate(vis): # 找出最短路并确认\n",
    "            if not vis[i] and (x < 0 or dis[i] < dis[x]):\n",
    "                x = i\n",
    "        if x < 0: # 最后一次算出的最短路就是最大的\n",
    "            return ans\n",
    "        if dis[x] == float(\"+inf\"): # 有节点无法到达\n",
    "            return -1 \n",
    "        ans = dis[x] # 求出的最短路会越来越大\n",
    "        vis[x] = True # 最短路长度已确定（无法变得更小）\n",
    "        for j, d in enumerate(g[x]): # 更新当前节点邻居的最短路\n",
    "            dis[j] = min(dis[j], dis[x] + d)\n",
    "    return ans"
   ]
  },
  {
   "cell_type": "code",
   "execution_count": 3,
   "id": "dea24ffd",
   "metadata": {},
   "outputs": [
    {
     "data": {
      "text/plain": [
       "2"
      ]
     },
     "execution_count": 3,
     "metadata": {},
     "output_type": "execute_result"
    }
   ],
   "source": [
    "networkDelayTime(times, n, k)"
   ]
  },
  {
   "cell_type": "code",
   "execution_count": null,
   "id": "fb66fd91",
   "metadata": {},
   "outputs": [],
   "source": []
  }
 ],
 "metadata": {
  "kernelspec": {
   "display_name": "Python 3 (ipykernel)",
   "language": "python",
   "name": "python3"
  },
  "language_info": {
   "codemirror_mode": {
    "name": "ipython",
    "version": 3
   },
   "file_extension": ".py",
   "mimetype": "text/x-python",
   "name": "python",
   "nbconvert_exporter": "python",
   "pygments_lexer": "ipython3",
   "version": "3.11.8"
  }
 },
 "nbformat": 4,
 "nbformat_minor": 5
}
