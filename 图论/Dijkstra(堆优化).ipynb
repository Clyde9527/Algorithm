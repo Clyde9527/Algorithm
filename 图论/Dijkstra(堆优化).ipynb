{
 "cells": [
  {
   "cell_type": "code",
   "execution_count": null,
   "id": "d180ae82",
   "metadata": {},
   "outputs": [],
   "source": [
    "'''\n",
    "示例题目 leetcode-743\n",
    "https://leetcode.cn/problems/network-delay-time/description/\n",
    "'''"
   ]
  },
  {
   "cell_type": "code",
   "execution_count": 1,
   "id": "3da0e7f6",
   "metadata": {},
   "outputs": [],
   "source": [
    "times = [[2,1,1],[2,3,1],[3,4,1]]\n",
    "n = 4\n",
    "k = 2"
   ]
  },
  {
   "cell_type": "code",
   "execution_count": 2,
   "id": "bd5cec44",
   "metadata": {},
   "outputs": [],
   "source": [
    "from typing import List\n",
    "from heapq import heappush, heappop\n",
    "\n",
    "def networkDelayTime(times: List[List[int]], n: int, k: int) -> int:\n",
    "    g = [[] for _ in range(n)] # 邻接表\n",
    "    for u, v, w in times:\n",
    "        g[u - 1].append((v - 1, w))\n",
    "\n",
    "    inf = float(\"+inf\")\n",
    "    dis = [inf] * n\n",
    "    dis[k - 1] = 0\n",
    "    h = [(0, k - 1)] # 初始堆\n",
    "    while h:\n",
    "        dx, x = heappop(h)\n",
    "        if dx > dis[x]: # 之前出堆过，详细看下面解释\n",
    "            continue\n",
    "        for y, d in g[x]:\n",
    "            new_dy = dis[x] + d\n",
    "            if new_dy < dis[y]:\n",
    "                dis[y] = new_dy\n",
    "                heappush(h, (new_dy, y))\n",
    "    mx = max(dis)\n",
    "    return mx if mx < inf else -1"
   ]
  },
  {
   "cell_type": "code",
   "execution_count": 3,
   "id": "60e78646",
   "metadata": {},
   "outputs": [
    {
     "data": {
      "text/plain": [
       "2"
      ]
     },
     "execution_count": 3,
     "metadata": {},
     "output_type": "execute_result"
    }
   ],
   "source": [
    "networkDelayTime(times, n, k)"
   ]
  },
  {
   "cell_type": "markdown",
   "id": "63e0c906",
   "metadata": {},
   "source": [
    "- 问之前出过堆要跳过？\n",
    "- 拿顶点A来说，它一开始的最短路径估计值是10，后来被更新为5。等5这个值被弹出过了，并且用它更新了所有跟A有关的邻居的最短路径后，10这个还保留出现在了优先队列里。但是呢，因为5已经把该更新的都更新了，所以10这个值出队的时候，值是比5还大的了，我们就没必要再去看它了，也别再更新一遍邻居的最短路径了。这就是为什么要跳过的原因。"
   ]
  },
  {
   "cell_type": "markdown",
   "id": "16a6edb2",
   "metadata": {},
   "source": [
    "- 为什么顶点会多次进队？ \n",
    "- 假设有顶点A，一开始它到起点的最短路径估计值是10，所以就进了优先队列。后来呢，我们发现通过另一个顶点能到A，并且10还保留堆中，但是最新路径只有5，更短。那我们就更新了A的最短路径估计值为5，并且把A又放回了优先队列。这就是为什么顶点可能会多次进队的原因。"
   ]
  },
  {
   "cell_type": "code",
   "execution_count": null,
   "id": "f8739003",
   "metadata": {},
   "outputs": [],
   "source": []
  }
 ],
 "metadata": {
  "kernelspec": {
   "display_name": "Python 3 (ipykernel)",
   "language": "python",
   "name": "python3"
  },
  "language_info": {
   "codemirror_mode": {
    "name": "ipython",
    "version": 3
   },
   "file_extension": ".py",
   "mimetype": "text/x-python",
   "name": "python",
   "nbconvert_exporter": "python",
   "pygments_lexer": "ipython3",
   "version": "3.11.8"
  }
 },
 "nbformat": 4,
 "nbformat_minor": 5
}
